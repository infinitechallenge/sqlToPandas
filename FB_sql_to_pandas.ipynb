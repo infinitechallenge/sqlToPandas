{
 "cells": [
  {
   "cell_type": "markdown",
   "metadata": {},
   "source": [
    "# 문제은행 "
   ]
  },
  {
   "cell_type": "code",
   "execution_count": 4,
   "metadata": {},
   "outputs": [],
   "source": [
    "import pandas as pd\n",
    "import numpy as np"
   ]
  },
  {
   "cell_type": "code",
   "execution_count": 2,
   "metadata": {},
   "outputs": [],
   "source": [
    "url = ('https://raw.githubusercontent.com/pandas-dev/pandas/master/doc/data/tips.csv')"
   ]
  },
  {
   "cell_type": "code",
   "execution_count": 5,
   "metadata": {},
   "outputs": [],
   "source": [
    "tips = pd.read_csv(url)\n",
    "#this df has 'total_bill','tip','sex','smoker','day','time','size' columns"
   ]
  },
  {
   "cell_type": "code",
   "execution_count": 6,
   "metadata": {},
   "outputs": [],
   "source": [
    "#1. Show all the available information in the tips dataframe"
   ]
  },
  {
   "cell_type": "code",
   "execution_count": 7,
   "metadata": {},
   "outputs": [],
   "source": [
    "#2. Show me all the available information in the timps dataframe, where the time is dinner "
   ]
  },
  {
   "cell_type": "code",
   "execution_count": 8,
   "metadata": {},
   "outputs": [],
   "source": [
    "#3. Show me all the available information in the timps dataframe, where tip amount is more than $5 and when the time is dinner"
   ]
  },
  {
   "cell_type": "code",
   "execution_count": 9,
   "metadata": {},
   "outputs": [],
   "source": [
    "#4. Show me everything where size of the parties at least 5 OR total bill was more than $45"
   ]
  },
  {
   "cell_type": "code",
   "execution_count": 11,
   "metadata": {},
   "outputs": [],
   "source": [
    "frame = pd.DataFrame({'col1':['A','B',np.NaN,'C','D'],\n",
    "                      'col2':['F',np.NaN,'G','H','I']})"
   ]
  },
  {
   "cell_type": "code",
   "execution_count": 12,
   "metadata": {},
   "outputs": [],
   "source": [
    "#5. check null values in col2"
   ]
  },
  {
   "cell_type": "code",
   "execution_count": 13,
   "metadata": {},
   "outputs": [],
   "source": [
    "#6. check not null values in col1"
   ]
  },
  {
   "cell_type": "code",
   "execution_count": 14,
   "metadata": {},
   "outputs": [],
   "source": [
    "#7. From the tips, get the number of tips by sex"
   ]
  },
  {
   "cell_type": "code",
   "execution_count": 15,
   "metadata": {},
   "outputs": [],
   "source": [
    "#8. See how tip amount differs by the day of the week "
   ]
  },
  {
   "cell_type": "code",
   "execution_count": 17,
   "metadata": {},
   "outputs": [],
   "source": [
    "#9. See how tip amount differs by smoker & day "
   ]
  },
  {
   "cell_type": "code",
   "execution_count": 19,
   "metadata": {},
   "outputs": [],
   "source": [
    "df1 = pd.DataFrame({'key':['A','B','C','D'],\n",
    "                   'value':np.random.randn(4)})\n",
    "df2 = pd.DataFrame({'key':['B','D','D','E'],\n",
    "                   'value':np.random.randn(4)})"
   ]
  },
  {
   "cell_type": "code",
   "execution_count": 20,
   "metadata": {},
   "outputs": [],
   "source": [
    "#10. Perform inner join of df1 and df2"
   ]
  },
  {
   "cell_type": "code",
   "execution_count": 21,
   "metadata": {},
   "outputs": [],
   "source": [
    "#11. show all records from df1 "
   ]
  },
  {
   "cell_type": "code",
   "execution_count": 22,
   "metadata": {},
   "outputs": [],
   "source": [
    "#12. Show all records from df2"
   ]
  },
  {
   "cell_type": "code",
   "execution_count": 23,
   "metadata": {},
   "outputs": [],
   "source": [
    "#13. Show all records from both"
   ]
  },
  {
   "cell_type": "code",
   "execution_count": 24,
   "metadata": {},
   "outputs": [],
   "source": [
    "#14. Show all records from both without duplicates"
   ]
  },
  {
   "cell_type": "code",
   "execution_count": 25,
   "metadata": {},
   "outputs": [],
   "source": [
    "friend_request = pd.DataFrame({'sender_id':[1,1,1,2,3],\n",
    "                               'send_to_id':[2,3,4,3,4],\n",
    "                               'request_date':['2016_06-01','2016_06-01','2016_06-01','2016_06-02','2016_06-09']})\n",
    "\n",
    "request_accepted = pd.DataFrame({'requester_id':[1,1,2,3,3],\n",
    "                                 'accepter_id':[2,3,3,4,4],\n",
    "                                 'accept_date':['2016_06-03','2016_06-08','2016_06-08','2016_06-09','2016_06-10']})\n"
   ]
  },
  {
   "cell_type": "code",
   "execution_count": 26,
   "metadata": {},
   "outputs": [],
   "source": [
    "#15. how would you go about getting the finding the overall acceptance rate of requests rounded to 2 decimals, \n",
    "#which is the number of acceptance divide the number of requests?\n",
    "\n"
   ]
  },
  {
   "cell_type": "code",
   "execution_count": 27,
   "metadata": {},
   "outputs": [],
   "source": [
    "log = pd.DataFrame(\n",
    "            {\"date\":['2016-6-1', '2016-9-22', '2016-10-28', '2016-11-4', '2016-6-29', '2016-10-1', '2016-6-15', '2016-7-29', '2016-11-1'],\n",
    "             \"student_id\":[1, 2, 3, 4, 5, 6, 7, 8, 9]\n",
    "            })\n",
    "students = pd.DataFrame(\n",
    "            {\"date_of_birth\":['1988-6-1', '1987-9-22', '1988-10-27', '1986-11-3', '1987-6-29', '1988-10-2', '1988-6-16', '1988-7-28', '1988-11-2'],\n",
    "             \"student_id\":[1, 2, 3, 4, 5, 6, 7, 8, 9]\n",
    "            })"
   ]
  },
  {
   "cell_type": "code",
   "execution_count": 28,
   "metadata": {},
   "outputs": [],
   "source": [
    "#16.Find the percent of students attend school on their birthday"
   ]
  },
  {
   "cell_type": "code",
   "execution_count": 29,
   "metadata": {},
   "outputs": [],
   "source": [
    "salary = pd.DataFrame({'ID':[1,2,3],\n",
    "                      'Salary':[100,200,300]})"
   ]
  },
  {
   "cell_type": "code",
   "execution_count": 31,
   "metadata": {},
   "outputs": [],
   "source": [
    "#17. Write a query to get the second highest salary from the Employee table."
   ]
  },
  {
   "cell_type": "code",
   "execution_count": 32,
   "metadata": {},
   "outputs": [],
   "source": [
    "#18. Write a SQL query to get the nth highest salary from the Employee table."
   ]
  },
  {
   "cell_type": "code",
   "execution_count": 33,
   "metadata": {},
   "outputs": [],
   "source": [
    "Customers = pd.DataFrame({'ID':[1,2,3,4],\n",
    "                         'Name':['Joe','Henry','Sam','Max']})\n",
    "Orders = pd.DataFrame({'ID':[1,2],\n",
    "                      'CustomerId':[3,1]})\n"
   ]
  },
  {
   "cell_type": "code",
   "execution_count": 34,
   "metadata": {},
   "outputs": [],
   "source": [
    "#19. Write a SQL query to find all customers who never order anything."
   ]
  },
  {
   "cell_type": "code",
   "execution_count": 35,
   "metadata": {},
   "outputs": [],
   "source": [
    "request_accepted_short = pd.DataFrame({'requester_id':[1,1,2,3],\n",
    "                                 'accepter_id':[2,3,3,4],\n",
    "                                 'accept_date':['2016_06-03','2016_06-08','2016_06-08','2016_06-09']})\n"
   ]
  },
  {
   "cell_type": "code",
   "execution_count": 36,
   "metadata": {},
   "outputs": [],
   "source": [
    "#20. find the the people who has most friends and the most friends number"
   ]
  },
  {
   "cell_type": "code",
   "execution_count": 44,
   "metadata": {},
   "outputs": [],
   "source": [
    "Employee = pd.DataFrame({'Id':[1,2,3,4,5,6,7],\n",
    "                        'Name':['Joe','Henry','Sam','Max','Janet','Randy','Will'],\n",
    "                        'Salary':[85000,80000,60000,90000,69000,85000,70000],\n",
    "                        'DepartmentId':[1,2,2,1,1,1,1]\n",
    "                        })\n",
    "Department = pd.DataFrame({'Id':[1,2],\n",
    "                          'Name':['IT','Sales']\n",
    "                          })"
   ]
  },
  {
   "cell_type": "code",
   "execution_count": 45,
   "metadata": {},
   "outputs": [],
   "source": [
    "#21. Find employees who earn the top three salaries in each of the department."
   ]
  },
  {
   "cell_type": "code",
   "execution_count": null,
   "metadata": {},
   "outputs": [],
   "source": []
  }
 ],
 "metadata": {
  "kernelspec": {
   "display_name": "Python 3",
   "language": "python",
   "name": "python3"
  },
  "language_info": {
   "codemirror_mode": {
    "name": "ipython",
    "version": 3
   },
   "file_extension": ".py",
   "mimetype": "text/x-python",
   "name": "python",
   "nbconvert_exporter": "python",
   "pygments_lexer": "ipython3",
   "version": "3.6.5"
  }
 },
 "nbformat": 4,
 "nbformat_minor": 2
}
